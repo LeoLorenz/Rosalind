{
 "cells": [
  {
   "cell_type": "code",
   "execution_count": null,
   "metadata": {},
   "outputs": [],
   "source": [
    "'''\n",
    "Given: A DNA string s of length at most 1000 nt.\n",
    "Return: Four integers (separated by spaces) counting the respective number of times that the symbols 'A', 'C', 'G', and 'T' occur in s.\n",
    "\n",
    "Sample Dataset\n",
    "AGCTTTTCATTCTGACTGCAACGGGCAATATGTCTCTGTGTGGATTAAAAAAAGAGTGTCTGATAGCAGC\n",
    "Sample Output\n",
    "20 12 17 21\n",
    "'''"
   ]
  },
  {
   "cell_type": "code",
   "execution_count": 14,
   "metadata": {},
   "outputs": [
    {
     "name": "stdout",
     "output_type": "stream",
     "text": [
      "236 252 249 233\n"
     ]
    }
   ],
   "source": [
    "with open(r'C:\\Users\\loren\\Documents\\python\\rosalind\\DNA\\rosalind_dna.txt')as f:\n",
    "    lines = f.readlines()[0].strip()\n",
    "print(*(lines.count(base) for base in ['A', 'C', 'G', 'T']))"
   ]
  }
 ],
 "metadata": {
  "kernelspec": {
   "display_name": "Python 3",
   "language": "python",
   "name": "python3"
  },
  "language_info": {
   "codemirror_mode": {
    "name": "ipython",
    "version": 3
   },
   "file_extension": ".py",
   "mimetype": "text/x-python",
   "name": "python",
   "nbconvert_exporter": "python",
   "pygments_lexer": "ipython3",
   "version": "3.9.6"
  },
  "orig_nbformat": 4,
  "vscode": {
   "interpreter": {
    "hash": "b216308f6c110705e7a49f2c164b2f45f55a6af2b204621238fa39e0be61ed09"
   }
  }
 },
 "nbformat": 4,
 "nbformat_minor": 2
}
